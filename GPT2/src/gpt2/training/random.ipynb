{
 "cells": [
  {
   "cell_type": "code",
   "execution_count": 1,
   "metadata": {},
   "outputs": [],
   "source": [
    "import numpy as np\n",
    "\n",
    "# Define the sequence from 1 to 40\n",
    "sequence = np.arange(1, 41)\n",
    "\n",
    "# Repeat the sequence to achieve a length of 500,000\n",
    "repeated_sequence = np.tile(sequence, 12500)  # 40 * 12500 = 500,000\n",
    "\n",
    "# Reshape the array to the desired shape (500,000)\n",
    "result_array = repeated_sequence.reshape(500000)\n",
    "\n",
    "# Save the NumPy array to a .npy file\n",
    "np.save('repeated_sequence.npy', result_array)"
   ]
  },
  {
   "cell_type": "code",
   "execution_count": null,
   "metadata": {},
   "outputs": [],
   "source": []
  }
 ],
 "metadata": {
  "kernelspec": {
   "display_name": "osld",
   "language": "python",
   "name": "python3"
  },
  "language_info": {
   "codemirror_mode": {
    "name": "ipython",
    "version": 3
   },
   "file_extension": ".py",
   "mimetype": "text/x-python",
   "name": "python",
   "nbconvert_exporter": "python",
   "pygments_lexer": "ipython3",
   "version": "3.10.14"
  }
 },
 "nbformat": 4,
 "nbformat_minor": 2
}
