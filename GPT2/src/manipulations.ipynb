{
 "cells": [
  {
   "cell_type": "code",
   "execution_count": 25,
   "metadata": {},
   "outputs": [],
   "source": [
    "data[0]\n",
    "flat_arr = np.squeeze(data)\n",
    "flat_arr = np.squeeze(data)\n",
    "for i in range(flat_arr.shape[0]):\n",
    "    if flat_arr[i] != data[i][0]:\n",
    "        print(\"errror\")"
   ]
  },
  {
   "cell_type": "code",
   "execution_count": null,
   "metadata": {},
   "outputs": [],
   "source": [
    "\n",
    "import numpy as np \n",
    "\n",
    "path = \"generated_data_recursively_12k.npy\"\n",
    "data = np.load(path)  \n",
    "data = np.expand_dims(data, axis=1)\n",
    "\n",
    "np.save(path, data)"
   ]
  },
  {
   "cell_type": "code",
   "execution_count": 26,
   "metadata": {},
   "outputs": [
    {
     "data": {
      "text/plain": [
       "(2304003,)"
      ]
     },
     "execution_count": 26,
     "metadata": {},
     "output_type": "execute_result"
    }
   ],
   "source": [
    "import numpy as np \n",
    "\n",
    "path = \"meg_data_tokenized_data.npy\"\n",
    "data = np.load(path)  \n",
    "data = np.squeeze(data)\n",
    "data_train = data[0:int(data.shape[0]*0.90)]\n",
    "data_val = data[int(data.shape[0]*0.90):]\n",
    "np.save('train_data_SNR3.npy', data_train)\n",
    "np.save('val_data_SNR3.npy', data_val)\n",
    "data_train.shape\n"
   ]
  },
  {
   "cell_type": "code",
   "execution_count": 9,
   "metadata": {},
   "outputs": [],
   "source": [
    "data_train = np.squeeze(data_train, axis=1)\n",
    "data_val = np.squeeze(data_val, axis=1)\n",
    "np.save('train_data_SNR3.npy', data_train)\n",
    "np.save('val_data_SNR3.npy', data_val)"
   ]
  },
  {
   "cell_type": "code",
   "execution_count": 28,
   "metadata": {},
   "outputs": [
    {
     "data": {
      "text/plain": [
       "array([ 9,  4,  8, ...,  6, 12,  3])"
      ]
     },
     "execution_count": 28,
     "metadata": {},
     "output_type": "execute_result"
    }
   ],
   "source": [
    "data_train"
   ]
  },
  {
   "cell_type": "code",
   "execution_count": 15,
   "metadata": {},
   "outputs": [
    {
     "data": {
      "text/plain": [
       "(128001,)"
      ]
     },
     "execution_count": 15,
     "metadata": {},
     "output_type": "execute_result"
    }
   ],
   "source": [
    "path = \"meg_data_tokenized_data_val.npy\"\n",
    "data = np.load(path)  \n",
    "data.shape "
   ]
  },
  {
   "cell_type": "code",
   "execution_count": 17,
   "metadata": {},
   "outputs": [
    {
     "data": {
      "text/plain": [
       "array([17, 18,  7, ..., 38, 38, 38])"
      ]
     },
     "execution_count": 17,
     "metadata": {},
     "output_type": "execute_result"
    }
   ],
   "source": [
    "data"
   ]
  },
  {
   "cell_type": "code",
   "execution_count": null,
   "metadata": {},
   "outputs": [],
   "source": []
  }
 ],
 "metadata": {
  "kernelspec": {
   "display_name": "osld",
   "language": "python",
   "name": "python3"
  },
  "language_info": {
   "codemirror_mode": {
    "name": "ipython",
    "version": 3
   },
   "file_extension": ".py",
   "mimetype": "text/x-python",
   "name": "python",
   "nbconvert_exporter": "python",
   "pygments_lexer": "ipython3",
   "version": "3.10.14"
  }
 },
 "nbformat": 4,
 "nbformat_minor": 2
}
